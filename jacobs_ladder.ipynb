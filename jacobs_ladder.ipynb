{
 "cells": [
  {
   "cell_type": "code",
   "execution_count": 1,
   "metadata": {},
   "outputs": [],
   "source": [
    "import numpy as np\n",
    "from pyscf import dft, gto"
   ]
  },
  {
   "cell_type": "code",
   "execution_count": 2,
   "metadata": {},
   "outputs": [
    {
     "name": "stdout",
     "output_type": "stream",
     "text": [
      "converged SCF energy = -75.2339187560294\n"
     ]
    }
   ],
   "source": [
    "mol = gto.M(atom='O  0  0  0; H  0 1 0 ; H 0 0 1', basis='STO-3G')\n",
    "auxmol = gto.M(atom='O  0  0  0; H  0 1 0 ; H 0 0 1', \n",
    "               basis=gto.basis.parse(\"\"\"\n",
    "                                        O    S\n",
    "                                             4.0              1.0000000  \n",
    "                                        O    S\n",
    "                                             1.0              1.0000000\n",
    "                                        O    S\n",
    "                                             0.5              1.0000000\n",
    "                                        \"\"\")\n",
    ")\n",
    "\n",
    "mf = dft.RKS(mol)\n",
    "mf.xc = 'PBE'\n",
    "mf.grids.level = 5\n",
    "mf.kernel()\n",
    "\n",
    "dm = mf.make_rdm1()\n",
    "\n",
    "pmol = mol + auxmol"
   ]
  },
  {
   "cell_type": "code",
   "execution_count": 3,
   "metadata": {},
   "outputs": [
    {
     "data": {
      "text/plain": [
       "['0 O 1s    ',\n",
       " '0 O 2s    ',\n",
       " '0 O 2px   ',\n",
       " '0 O 2py   ',\n",
       " '0 O 2pz   ',\n",
       " '1 H 1s    ',\n",
       " '2 H 1s    ']"
      ]
     },
     "execution_count": 3,
     "metadata": {},
     "output_type": "execute_result"
    }
   ],
   "source": [
    "mol.ao_labels()"
   ]
  },
  {
   "cell_type": "code",
   "execution_count": 4,
   "metadata": {},
   "outputs": [
    {
     "data": {
      "text/plain": [
       "['0 O 1s    ',\n",
       " '0 O 2s    ',\n",
       " '0 O 3s    ',\n",
       " '1 H 1s    ',\n",
       " '1 H 2s    ',\n",
       " '1 H 3s    ',\n",
       " '2 H 1s    ',\n",
       " '2 H 2s    ',\n",
       " '2 H 3s    ']"
      ]
     },
     "execution_count": 4,
     "metadata": {},
     "output_type": "execute_result"
    }
   ],
   "source": [
    "auxmol.ao_labels()"
   ]
  },
  {
   "cell_type": "markdown",
   "metadata": {},
   "source": [
    "## Numerical integrals"
   ]
  },
  {
   "cell_type": "markdown",
   "metadata": {},
   "source": [
    "$$ \\zeta_\\sigma(r)$$"
   ]
  },
  {
   "cell_type": "code",
   "execution_count": 5,
   "metadata": {},
   "outputs": [],
   "source": [
    "ao_aux_eval = mf._numint.eval_ao(auxmol, mf.grids.coords)"
   ]
  },
  {
   "cell_type": "code",
   "execution_count": 6,
   "metadata": {},
   "outputs": [
    {
     "data": {
      "text/plain": [
       "(76490, 9)"
      ]
     },
     "execution_count": 6,
     "metadata": {},
     "output_type": "execute_result"
    }
   ],
   "source": [
    "ao_aux_eval.shape"
   ]
  },
  {
   "cell_type": "markdown",
   "metadata": {},
   "source": [
    "$$ \\rho(r) $$"
   ]
  },
  {
   "cell_type": "code",
   "execution_count": 14,
   "metadata": {},
   "outputs": [],
   "source": [
    "ao_eval = mf._numint.eval_ao(mol, mf.grids.coords, deriv=1)"
   ]
  },
  {
   "cell_type": "code",
   "execution_count": 15,
   "metadata": {},
   "outputs": [
    {
     "data": {
      "text/plain": [
       "(4, 76490, 7)"
      ]
     },
     "execution_count": 15,
     "metadata": {},
     "output_type": "execute_result"
    }
   ],
   "source": [
    "ao_eval.shape"
   ]
  },
  {
   "cell_type": "code",
   "execution_count": 16,
   "metadata": {},
   "outputs": [],
   "source": [
    "rho = mf._numint.eval_rho(mol, ao_eval, dm, xctype='GGA')"
   ]
  },
  {
   "cell_type": "code",
   "execution_count": 17,
   "metadata": {},
   "outputs": [
    {
     "data": {
      "text/plain": [
       "(4, 76490)"
      ]
     },
     "execution_count": 17,
     "metadata": {},
     "output_type": "execute_result"
    }
   ],
   "source": [
    "rho.shape"
   ]
  },
  {
   "cell_type": "markdown",
   "metadata": {},
   "source": [
    "$$ c_\\sigma = \\int \\rho(r) \\zeta_\\sigma(r) $$"
   ]
  },
  {
   "cell_type": "code",
   "execution_count": 115,
   "metadata": {},
   "outputs": [
    {
     "data": {
      "text/plain": [
       "array([4.42162163, 3.00325556, 2.39249209, 0.2785002 , 0.523849  ,\n",
       "       0.77510625, 0.2785002 , 0.523849  , 0.77510625])"
      ]
     },
     "execution_count": 115,
     "metadata": {},
     "output_type": "execute_result"
    }
   ],
   "source": [
    "np.einsum('is,i -> s', ao_aux_eval, rho*mf.grids.weights)"
   ]
  },
  {
   "cell_type": "markdown",
   "metadata": {},
   "source": [
    "## Analytic integrals"
   ]
  },
  {
   "cell_type": "markdown",
   "metadata": {},
   "source": [
    "$$ \\rho(r) = \\rho_{\\mu\\nu} \\psi_\\mu(r) \\psi_\\nu(r) $$"
   ]
  },
  {
   "cell_type": "markdown",
   "metadata": {},
   "source": [
    "$$ c_\\sigma = \\int \\rho(r) \\zeta_\\sigma(r) = \\rho_{\\mu\\nu} \\int_r \\psi_\\mu(r) \\psi_\\nu(r) \\zeta_\\sigma(r) $$"
   ]
  },
  {
   "cell_type": "markdown",
   "metadata": {},
   "source": [
    "$$ I_{\\mu\\nu\\sigma} = \\int_r \\psi_\\mu(r) \\psi_\\nu(r) \\zeta_\\sigma(r) $$"
   ]
  },
  {
   "cell_type": "code",
   "execution_count": 116,
   "metadata": {},
   "outputs": [],
   "source": [
    "pmol = mol + auxmol"
   ]
  },
  {
   "cell_type": "code",
   "execution_count": 117,
   "metadata": {},
   "outputs": [],
   "source": [
    "i3c = pmol.intor('int3c1e_sph', shls_slice=(0, mol.nbas, 0, mol.nbas, mol.nbas, mol.nbas + auxmol.nbas))"
   ]
  },
  {
   "cell_type": "code",
   "execution_count": 118,
   "metadata": {},
   "outputs": [
    {
     "data": {
      "text/plain": [
       "(7, 7, 9)"
      ]
     },
     "execution_count": 118,
     "metadata": {},
     "output_type": "execute_result"
    }
   ],
   "source": [
    "i3c.shape"
   ]
  },
  {
   "cell_type": "markdown",
   "metadata": {},
   "source": [
    "$$ c_\\sigma = \\sum_{\\mu,\\nu} I_{\\mu\\nu\\sigma}\\rho_{\\mu\\nu} $$"
   ]
  },
  {
   "cell_type": "code",
   "execution_count": 119,
   "metadata": {},
   "outputs": [],
   "source": [
    "projections = np.einsum('mn,mns -> s', dm, i3c)"
   ]
  },
  {
   "cell_type": "code",
   "execution_count": 120,
   "metadata": {},
   "outputs": [
    {
     "data": {
      "text/plain": [
       "array([4.42162164, 3.00325556, 2.39249209, 0.2785002 , 0.523849  ,\n",
       "       0.77510625, 0.2785002 , 0.523849  , 0.77510625])"
      ]
     },
     "execution_count": 120,
     "metadata": {},
     "output_type": "execute_result"
    }
   ],
   "source": [
    "projections"
   ]
  },
  {
   "cell_type": "code",
   "execution_count": null,
   "metadata": {},
   "outputs": [],
   "source": []
  }
 ],
 "metadata": {
  "kernelspec": {
   "display_name": "Python 3",
   "language": "python",
   "name": "python3"
  },
  "language_info": {
   "codemirror_mode": {
    "name": "ipython",
    "version": 3
   },
   "file_extension": ".py",
   "mimetype": "text/x-python",
   "name": "python",
   "nbconvert_exporter": "python",
   "pygments_lexer": "ipython3",
   "version": "3.6.10"
  }
 },
 "nbformat": 4,
 "nbformat_minor": 4
}
